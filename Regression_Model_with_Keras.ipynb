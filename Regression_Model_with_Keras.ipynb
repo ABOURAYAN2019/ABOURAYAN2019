{
  "nbformat": 4,
  "nbformat_minor": 0,
  "metadata": {
    "colab": {
      "provenance": [],
      "authorship_tag": "ABX9TyPmWebcojFOOaVUgzpd8M0J",
      "include_colab_link": true
    },
    "kernelspec": {
      "name": "python3",
      "display_name": "Python 3"
    },
    "language_info": {
      "name": "python"
    }
  },
  "cells": [
    {
      "cell_type": "markdown",
      "metadata": {
        "id": "view-in-github",
        "colab_type": "text"
      },
      "source": [
        "<a href=\"https://colab.research.google.com/github/ABOURAYAN2019/ABOURAYAN2019/blob/main/Regression_Model_with_Keras.ipynb\" target=\"_parent\"><img src=\"https://colab.research.google.com/assets/colab-badge.svg\" alt=\"Open In Colab\"/></a>"
      ]
    },
    {
      "cell_type": "markdown",
      "source": [
        "Import necessary libraries\n"
      ],
      "metadata": {
        "id": "YiJrL9aHsDzo"
      }
    },
    {
      "cell_type": "code",
      "execution_count": 1,
      "metadata": {
        "id": "fDFq9Dpsna9L"
      },
      "outputs": [],
      "source": [
        "import pandas as pd\n",
        "import numpy as np\n",
        "from keras.models import Sequential\n",
        "from keras.layers import Dense\n",
        "from sklearn.model_selection import train_test_split\n",
        "from sklearn.metrics import mean_squared_error"
      ]
    },
    {
      "cell_type": "markdown",
      "source": [
        "Load the dataset"
      ],
      "metadata": {
        "id": "Q9Ygh85PsSyG"
      }
    },
    {
      "cell_type": "code",
      "source": [
        "data_url = \"https://cocl.us/concrete_data\"\n",
        "concrete_data = pd.read_csv(data_url)"
      ],
      "metadata": {
        "id": "qD4jY72er2IU"
      },
      "execution_count": 4,
      "outputs": []
    },
    {
      "cell_type": "markdown",
      "source": [
        "Brief exploration"
      ],
      "metadata": {
        "id": "FrqtPbXxsROG"
      }
    },
    {
      "cell_type": "code",
      "source": [
        "concrete_data.head()\n",
        "concrete_data.describe()"
      ],
      "metadata": {
        "colab": {
          "base_uri": "https://localhost:8080/",
          "height": 300
        },
        "id": "y05KkrbYsbfv",
        "outputId": "54b6de2c-1abc-4834-f72a-f28983d8e8d2"
      },
      "execution_count": 5,
      "outputs": [
        {
          "output_type": "execute_result",
          "data": {
            "text/plain": [
              "            Cement  Blast Furnace Slag      Fly Ash        Water  \\\n",
              "count  1030.000000         1030.000000  1030.000000  1030.000000   \n",
              "mean    281.167864           73.895825    54.188350   181.567282   \n",
              "std     104.506364           86.279342    63.997004    21.354219   \n",
              "min     102.000000            0.000000     0.000000   121.800000   \n",
              "25%     192.375000            0.000000     0.000000   164.900000   \n",
              "50%     272.900000           22.000000     0.000000   185.000000   \n",
              "75%     350.000000          142.950000   118.300000   192.000000   \n",
              "max     540.000000          359.400000   200.100000   247.000000   \n",
              "\n",
              "       Superplasticizer  Coarse Aggregate  Fine Aggregate          Age  \\\n",
              "count       1030.000000       1030.000000     1030.000000  1030.000000   \n",
              "mean           6.204660        972.918932      773.580485    45.662136   \n",
              "std            5.973841         77.753954       80.175980    63.169912   \n",
              "min            0.000000        801.000000      594.000000     1.000000   \n",
              "25%            0.000000        932.000000      730.950000     7.000000   \n",
              "50%            6.400000        968.000000      779.500000    28.000000   \n",
              "75%           10.200000       1029.400000      824.000000    56.000000   \n",
              "max           32.200000       1145.000000      992.600000   365.000000   \n",
              "\n",
              "          Strength  \n",
              "count  1030.000000  \n",
              "mean     35.817961  \n",
              "std      16.705742  \n",
              "min       2.330000  \n",
              "25%      23.710000  \n",
              "50%      34.445000  \n",
              "75%      46.135000  \n",
              "max      82.600000  "
            ],
            "text/html": [
              "\n",
              "  <div id=\"df-636aa96e-c532-4d95-959c-d206dcd5ce15\" class=\"colab-df-container\">\n",
              "    <div>\n",
              "<style scoped>\n",
              "    .dataframe tbody tr th:only-of-type {\n",
              "        vertical-align: middle;\n",
              "    }\n",
              "\n",
              "    .dataframe tbody tr th {\n",
              "        vertical-align: top;\n",
              "    }\n",
              "\n",
              "    .dataframe thead th {\n",
              "        text-align: right;\n",
              "    }\n",
              "</style>\n",
              "<table border=\"1\" class=\"dataframe\">\n",
              "  <thead>\n",
              "    <tr style=\"text-align: right;\">\n",
              "      <th></th>\n",
              "      <th>Cement</th>\n",
              "      <th>Blast Furnace Slag</th>\n",
              "      <th>Fly Ash</th>\n",
              "      <th>Water</th>\n",
              "      <th>Superplasticizer</th>\n",
              "      <th>Coarse Aggregate</th>\n",
              "      <th>Fine Aggregate</th>\n",
              "      <th>Age</th>\n",
              "      <th>Strength</th>\n",
              "    </tr>\n",
              "  </thead>\n",
              "  <tbody>\n",
              "    <tr>\n",
              "      <th>count</th>\n",
              "      <td>1030.000000</td>\n",
              "      <td>1030.000000</td>\n",
              "      <td>1030.000000</td>\n",
              "      <td>1030.000000</td>\n",
              "      <td>1030.000000</td>\n",
              "      <td>1030.000000</td>\n",
              "      <td>1030.000000</td>\n",
              "      <td>1030.000000</td>\n",
              "      <td>1030.000000</td>\n",
              "    </tr>\n",
              "    <tr>\n",
              "      <th>mean</th>\n",
              "      <td>281.167864</td>\n",
              "      <td>73.895825</td>\n",
              "      <td>54.188350</td>\n",
              "      <td>181.567282</td>\n",
              "      <td>6.204660</td>\n",
              "      <td>972.918932</td>\n",
              "      <td>773.580485</td>\n",
              "      <td>45.662136</td>\n",
              "      <td>35.817961</td>\n",
              "    </tr>\n",
              "    <tr>\n",
              "      <th>std</th>\n",
              "      <td>104.506364</td>\n",
              "      <td>86.279342</td>\n",
              "      <td>63.997004</td>\n",
              "      <td>21.354219</td>\n",
              "      <td>5.973841</td>\n",
              "      <td>77.753954</td>\n",
              "      <td>80.175980</td>\n",
              "      <td>63.169912</td>\n",
              "      <td>16.705742</td>\n",
              "    </tr>\n",
              "    <tr>\n",
              "      <th>min</th>\n",
              "      <td>102.000000</td>\n",
              "      <td>0.000000</td>\n",
              "      <td>0.000000</td>\n",
              "      <td>121.800000</td>\n",
              "      <td>0.000000</td>\n",
              "      <td>801.000000</td>\n",
              "      <td>594.000000</td>\n",
              "      <td>1.000000</td>\n",
              "      <td>2.330000</td>\n",
              "    </tr>\n",
              "    <tr>\n",
              "      <th>25%</th>\n",
              "      <td>192.375000</td>\n",
              "      <td>0.000000</td>\n",
              "      <td>0.000000</td>\n",
              "      <td>164.900000</td>\n",
              "      <td>0.000000</td>\n",
              "      <td>932.000000</td>\n",
              "      <td>730.950000</td>\n",
              "      <td>7.000000</td>\n",
              "      <td>23.710000</td>\n",
              "    </tr>\n",
              "    <tr>\n",
              "      <th>50%</th>\n",
              "      <td>272.900000</td>\n",
              "      <td>22.000000</td>\n",
              "      <td>0.000000</td>\n",
              "      <td>185.000000</td>\n",
              "      <td>6.400000</td>\n",
              "      <td>968.000000</td>\n",
              "      <td>779.500000</td>\n",
              "      <td>28.000000</td>\n",
              "      <td>34.445000</td>\n",
              "    </tr>\n",
              "    <tr>\n",
              "      <th>75%</th>\n",
              "      <td>350.000000</td>\n",
              "      <td>142.950000</td>\n",
              "      <td>118.300000</td>\n",
              "      <td>192.000000</td>\n",
              "      <td>10.200000</td>\n",
              "      <td>1029.400000</td>\n",
              "      <td>824.000000</td>\n",
              "      <td>56.000000</td>\n",
              "      <td>46.135000</td>\n",
              "    </tr>\n",
              "    <tr>\n",
              "      <th>max</th>\n",
              "      <td>540.000000</td>\n",
              "      <td>359.400000</td>\n",
              "      <td>200.100000</td>\n",
              "      <td>247.000000</td>\n",
              "      <td>32.200000</td>\n",
              "      <td>1145.000000</td>\n",
              "      <td>992.600000</td>\n",
              "      <td>365.000000</td>\n",
              "      <td>82.600000</td>\n",
              "    </tr>\n",
              "  </tbody>\n",
              "</table>\n",
              "</div>\n",
              "    <div class=\"colab-df-buttons\">\n",
              "\n",
              "  <div class=\"colab-df-container\">\n",
              "    <button class=\"colab-df-convert\" onclick=\"convertToInteractive('df-636aa96e-c532-4d95-959c-d206dcd5ce15')\"\n",
              "            title=\"Convert this dataframe to an interactive table.\"\n",
              "            style=\"display:none;\">\n",
              "\n",
              "  <svg xmlns=\"http://www.w3.org/2000/svg\" height=\"24px\" viewBox=\"0 -960 960 960\">\n",
              "    <path d=\"M120-120v-720h720v720H120Zm60-500h600v-160H180v160Zm220 220h160v-160H400v160Zm0 220h160v-160H400v160ZM180-400h160v-160H180v160Zm440 0h160v-160H620v160ZM180-180h160v-160H180v160Zm440 0h160v-160H620v160Z\"/>\n",
              "  </svg>\n",
              "    </button>\n",
              "\n",
              "  <style>\n",
              "    .colab-df-container {\n",
              "      display:flex;\n",
              "      gap: 12px;\n",
              "    }\n",
              "\n",
              "    .colab-df-convert {\n",
              "      background-color: #E8F0FE;\n",
              "      border: none;\n",
              "      border-radius: 50%;\n",
              "      cursor: pointer;\n",
              "      display: none;\n",
              "      fill: #1967D2;\n",
              "      height: 32px;\n",
              "      padding: 0 0 0 0;\n",
              "      width: 32px;\n",
              "    }\n",
              "\n",
              "    .colab-df-convert:hover {\n",
              "      background-color: #E2EBFA;\n",
              "      box-shadow: 0px 1px 2px rgba(60, 64, 67, 0.3), 0px 1px 3px 1px rgba(60, 64, 67, 0.15);\n",
              "      fill: #174EA6;\n",
              "    }\n",
              "\n",
              "    .colab-df-buttons div {\n",
              "      margin-bottom: 4px;\n",
              "    }\n",
              "\n",
              "    [theme=dark] .colab-df-convert {\n",
              "      background-color: #3B4455;\n",
              "      fill: #D2E3FC;\n",
              "    }\n",
              "\n",
              "    [theme=dark] .colab-df-convert:hover {\n",
              "      background-color: #434B5C;\n",
              "      box-shadow: 0px 1px 3px 1px rgba(0, 0, 0, 0.15);\n",
              "      filter: drop-shadow(0px 1px 2px rgba(0, 0, 0, 0.3));\n",
              "      fill: #FFFFFF;\n",
              "    }\n",
              "  </style>\n",
              "\n",
              "    <script>\n",
              "      const buttonEl =\n",
              "        document.querySelector('#df-636aa96e-c532-4d95-959c-d206dcd5ce15 button.colab-df-convert');\n",
              "      buttonEl.style.display =\n",
              "        google.colab.kernel.accessAllowed ? 'block' : 'none';\n",
              "\n",
              "      async function convertToInteractive(key) {\n",
              "        const element = document.querySelector('#df-636aa96e-c532-4d95-959c-d206dcd5ce15');\n",
              "        const dataTable =\n",
              "          await google.colab.kernel.invokeFunction('convertToInteractive',\n",
              "                                                    [key], {});\n",
              "        if (!dataTable) return;\n",
              "\n",
              "        const docLinkHtml = 'Like what you see? Visit the ' +\n",
              "          '<a target=\"_blank\" href=https://colab.research.google.com/notebooks/data_table.ipynb>data table notebook</a>'\n",
              "          + ' to learn more about interactive tables.';\n",
              "        element.innerHTML = '';\n",
              "        dataTable['output_type'] = 'display_data';\n",
              "        await google.colab.output.renderOutput(dataTable, element);\n",
              "        const docLink = document.createElement('div');\n",
              "        docLink.innerHTML = docLinkHtml;\n",
              "        element.appendChild(docLink);\n",
              "      }\n",
              "    </script>\n",
              "  </div>\n",
              "\n",
              "\n",
              "<div id=\"df-719ed2dc-f11d-4b82-86fe-fdc06ebfc46b\">\n",
              "  <button class=\"colab-df-quickchart\" onclick=\"quickchart('df-719ed2dc-f11d-4b82-86fe-fdc06ebfc46b')\"\n",
              "            title=\"Suggest charts\"\n",
              "            style=\"display:none;\">\n",
              "\n",
              "<svg xmlns=\"http://www.w3.org/2000/svg\" height=\"24px\"viewBox=\"0 0 24 24\"\n",
              "     width=\"24px\">\n",
              "    <g>\n",
              "        <path d=\"M19 3H5c-1.1 0-2 .9-2 2v14c0 1.1.9 2 2 2h14c1.1 0 2-.9 2-2V5c0-1.1-.9-2-2-2zM9 17H7v-7h2v7zm4 0h-2V7h2v10zm4 0h-2v-4h2v4z\"/>\n",
              "    </g>\n",
              "</svg>\n",
              "  </button>\n",
              "\n",
              "<style>\n",
              "  .colab-df-quickchart {\n",
              "      --bg-color: #E8F0FE;\n",
              "      --fill-color: #1967D2;\n",
              "      --hover-bg-color: #E2EBFA;\n",
              "      --hover-fill-color: #174EA6;\n",
              "      --disabled-fill-color: #AAA;\n",
              "      --disabled-bg-color: #DDD;\n",
              "  }\n",
              "\n",
              "  [theme=dark] .colab-df-quickchart {\n",
              "      --bg-color: #3B4455;\n",
              "      --fill-color: #D2E3FC;\n",
              "      --hover-bg-color: #434B5C;\n",
              "      --hover-fill-color: #FFFFFF;\n",
              "      --disabled-bg-color: #3B4455;\n",
              "      --disabled-fill-color: #666;\n",
              "  }\n",
              "\n",
              "  .colab-df-quickchart {\n",
              "    background-color: var(--bg-color);\n",
              "    border: none;\n",
              "    border-radius: 50%;\n",
              "    cursor: pointer;\n",
              "    display: none;\n",
              "    fill: var(--fill-color);\n",
              "    height: 32px;\n",
              "    padding: 0;\n",
              "    width: 32px;\n",
              "  }\n",
              "\n",
              "  .colab-df-quickchart:hover {\n",
              "    background-color: var(--hover-bg-color);\n",
              "    box-shadow: 0 1px 2px rgba(60, 64, 67, 0.3), 0 1px 3px 1px rgba(60, 64, 67, 0.15);\n",
              "    fill: var(--button-hover-fill-color);\n",
              "  }\n",
              "\n",
              "  .colab-df-quickchart-complete:disabled,\n",
              "  .colab-df-quickchart-complete:disabled:hover {\n",
              "    background-color: var(--disabled-bg-color);\n",
              "    fill: var(--disabled-fill-color);\n",
              "    box-shadow: none;\n",
              "  }\n",
              "\n",
              "  .colab-df-spinner {\n",
              "    border: 2px solid var(--fill-color);\n",
              "    border-color: transparent;\n",
              "    border-bottom-color: var(--fill-color);\n",
              "    animation:\n",
              "      spin 1s steps(1) infinite;\n",
              "  }\n",
              "\n",
              "  @keyframes spin {\n",
              "    0% {\n",
              "      border-color: transparent;\n",
              "      border-bottom-color: var(--fill-color);\n",
              "      border-left-color: var(--fill-color);\n",
              "    }\n",
              "    20% {\n",
              "      border-color: transparent;\n",
              "      border-left-color: var(--fill-color);\n",
              "      border-top-color: var(--fill-color);\n",
              "    }\n",
              "    30% {\n",
              "      border-color: transparent;\n",
              "      border-left-color: var(--fill-color);\n",
              "      border-top-color: var(--fill-color);\n",
              "      border-right-color: var(--fill-color);\n",
              "    }\n",
              "    40% {\n",
              "      border-color: transparent;\n",
              "      border-right-color: var(--fill-color);\n",
              "      border-top-color: var(--fill-color);\n",
              "    }\n",
              "    60% {\n",
              "      border-color: transparent;\n",
              "      border-right-color: var(--fill-color);\n",
              "    }\n",
              "    80% {\n",
              "      border-color: transparent;\n",
              "      border-right-color: var(--fill-color);\n",
              "      border-bottom-color: var(--fill-color);\n",
              "    }\n",
              "    90% {\n",
              "      border-color: transparent;\n",
              "      border-bottom-color: var(--fill-color);\n",
              "    }\n",
              "  }\n",
              "</style>\n",
              "\n",
              "  <script>\n",
              "    async function quickchart(key) {\n",
              "      const quickchartButtonEl =\n",
              "        document.querySelector('#' + key + ' button');\n",
              "      quickchartButtonEl.disabled = true;  // To prevent multiple clicks.\n",
              "      quickchartButtonEl.classList.add('colab-df-spinner');\n",
              "      try {\n",
              "        const charts = await google.colab.kernel.invokeFunction(\n",
              "            'suggestCharts', [key], {});\n",
              "      } catch (error) {\n",
              "        console.error('Error during call to suggestCharts:', error);\n",
              "      }\n",
              "      quickchartButtonEl.classList.remove('colab-df-spinner');\n",
              "      quickchartButtonEl.classList.add('colab-df-quickchart-complete');\n",
              "    }\n",
              "    (() => {\n",
              "      let quickchartButtonEl =\n",
              "        document.querySelector('#df-719ed2dc-f11d-4b82-86fe-fdc06ebfc46b button');\n",
              "      quickchartButtonEl.style.display =\n",
              "        google.colab.kernel.accessAllowed ? 'block' : 'none';\n",
              "    })();\n",
              "  </script>\n",
              "</div>\n",
              "\n",
              "    </div>\n",
              "  </div>\n"
            ],
            "application/vnd.google.colaboratory.intrinsic+json": {
              "type": "dataframe",
              "summary": "{\n  \"name\": \"concrete_data\",\n  \"rows\": 8,\n  \"fields\": [\n    {\n      \"column\": \"Cement\",\n      \"properties\": {\n        \"dtype\": \"number\",\n        \"std\": 305.925723919693,\n        \"min\": 102.0,\n        \"max\": 1030.0,\n        \"num_unique_values\": 8,\n        \"samples\": [\n          281.16786407766995,\n          272.9,\n          1030.0\n        ],\n        \"semantic_type\": \"\",\n        \"description\": \"\"\n      }\n    },\n    {\n      \"column\": \"Blast Furnace Slag\",\n      \"properties\": {\n        \"dtype\": \"number\",\n        \"std\": 349.7840582355622,\n        \"min\": 0.0,\n        \"max\": 1030.0,\n        \"num_unique_values\": 7,\n        \"samples\": [\n          1030.0,\n          73.89582524271846,\n          142.95\n        ],\n        \"semantic_type\": \"\",\n        \"description\": \"\"\n      }\n    },\n    {\n      \"column\": \"Fly Ash\",\n      \"properties\": {\n        \"dtype\": \"number\",\n        \"std\": 349.10248573300066,\n        \"min\": 0.0,\n        \"max\": 1030.0,\n        \"num_unique_values\": 6,\n        \"samples\": [\n          1030.0,\n          54.18834951456311,\n          200.1\n        ],\n        \"semantic_type\": \"\",\n        \"description\": \"\"\n      }\n    },\n    {\n      \"column\": \"Water\",\n      \"properties\": {\n        \"dtype\": \"number\",\n        \"std\": 314.8829234606696,\n        \"min\": 21.35421856503247,\n        \"max\": 1030.0,\n        \"num_unique_values\": 8,\n        \"samples\": [\n          181.56728155339806,\n          185.0,\n          1030.0\n        ],\n        \"semantic_type\": \"\",\n        \"description\": \"\"\n      }\n    },\n    {\n      \"column\": \"Superplasticizer\",\n      \"properties\": {\n        \"dtype\": \"number\",\n        \"std\": 361.22346926276094,\n        \"min\": 0.0,\n        \"max\": 1030.0,\n        \"num_unique_values\": 7,\n        \"samples\": [\n          1030.0,\n          6.204660194174758,\n          10.2\n        ],\n        \"semantic_type\": \"\",\n        \"description\": \"\"\n      }\n    },\n    {\n      \"column\": \"Coarse Aggregate\",\n      \"properties\": {\n        \"dtype\": \"number\",\n        \"std\": 334.4689898607596,\n        \"min\": 77.75395396672077,\n        \"max\": 1145.0,\n        \"num_unique_values\": 8,\n        \"samples\": [\n          972.9189320388349,\n          968.0,\n          1030.0\n        ],\n        \"semantic_type\": \"\",\n        \"description\": \"\"\n      }\n    },\n    {\n      \"column\": \"Fine Aggregate\",\n      \"properties\": {\n        \"dtype\": \"number\",\n        \"std\": 295.86618714901516,\n        \"min\": 80.17598014240437,\n        \"max\": 1030.0,\n        \"num_unique_values\": 8,\n        \"samples\": [\n          773.5804854368932,\n          779.5,\n          1030.0\n        ],\n        \"semantic_type\": \"\",\n        \"description\": \"\"\n      }\n    },\n    {\n      \"column\": \"Age\",\n      \"properties\": {\n        \"dtype\": \"number\",\n        \"std\": 355.7357522307611,\n        \"min\": 1.0,\n        \"max\": 1030.0,\n        \"num_unique_values\": 8,\n        \"samples\": [\n          45.662135922330094,\n          28.0,\n          1030.0\n        ],\n        \"semantic_type\": \"\",\n        \"description\": \"\"\n      }\n    },\n    {\n      \"column\": \"Strength\",\n      \"properties\": {\n        \"dtype\": \"number\",\n        \"std\": 352.74449506712654,\n        \"min\": 2.33,\n        \"max\": 1030.0,\n        \"num_unique_values\": 8,\n        \"samples\": [\n          35.817961165048544,\n          34.445,\n          1030.0\n        ],\n        \"semantic_type\": \"\",\n        \"description\": \"\"\n      }\n    }\n  ]\n}"
            }
          },
          "metadata": {},
          "execution_count": 5
        }
      ]
    },
    {
      "cell_type": "markdown",
      "source": [
        "Split the data into predictors and target"
      ],
      "metadata": {
        "id": "QA_qIZrytSOA"
      }
    },
    {
      "cell_type": "code",
      "source": [
        "X = concrete_data.drop(['Strength'], axis=1)\n",
        "y = concrete_data['Strength']"
      ],
      "metadata": {
        "id": "f9ELfJHPtYBp"
      },
      "execution_count": 6,
      "outputs": []
    },
    {
      "cell_type": "markdown",
      "source": [
        "Split the data into a training set and a test set\n"
      ],
      "metadata": {
        "id": "FTdIagmutgFX"
      }
    },
    {
      "cell_type": "code",
      "source": [
        "X_train, X_test, y_train, y_test = train_test_split(X, y, test_size=0.3, random_state=42)\n"
      ],
      "metadata": {
        "id": "tV3LlLQEtnLn"
      },
      "execution_count": 7,
      "outputs": []
    },
    {
      "cell_type": "markdown",
      "source": [
        "build a baseline model with one hidden layer"
      ],
      "metadata": {
        "id": "SM4g55zDtsWI"
      }
    },
    {
      "cell_type": "code",
      "source": [
        "def build_model():\n",
        "    model = Sequential()\n",
        "    model.add(Dense(10, activation='relu', input_shape=(X_train.shape[1],)))\n",
        "    model.add(Dense(1))\n",
        "    model.compile(optimizer='adam', loss='mean_squared_error')\n",
        "    return model\n",
        "model = build_model()"
      ],
      "metadata": {
        "id": "Xx78D_xjtyZk"
      },
      "execution_count": 8,
      "outputs": []
    },
    {
      "cell_type": "markdown",
      "source": [
        "Train the model for 50 epochs"
      ],
      "metadata": {
        "id": "nvXM7Oz4t8xM"
      }
    },
    {
      "cell_type": "code",
      "source": [
        "history = model.fit(X_train, y_train, epochs=50, validation_split=0.2, verbose=2)\n"
      ],
      "metadata": {
        "colab": {
          "base_uri": "https://localhost:8080/"
        },
        "id": "-tckOLjWuDMd",
        "outputId": "4af7132a-9f90-47bc-bcc0-341604cda3e2"
      },
      "execution_count": 9,
      "outputs": [
        {
          "output_type": "stream",
          "name": "stdout",
          "text": [
            "Epoch 1/50\n",
            "18/18 - 1s - loss: 54169.5430 - val_loss: 34750.7812 - 836ms/epoch - 46ms/step\n",
            "Epoch 2/50\n",
            "18/18 - 0s - loss: 22642.5000 - val_loss: 13206.7900 - 94ms/epoch - 5ms/step\n",
            "Epoch 3/50\n",
            "18/18 - 0s - loss: 8554.1582 - val_loss: 5027.0303 - 140ms/epoch - 8ms/step\n",
            "Epoch 4/50\n",
            "18/18 - 0s - loss: 4034.0764 - val_loss: 2885.3757 - 109ms/epoch - 6ms/step\n",
            "Epoch 5/50\n",
            "18/18 - 0s - loss: 2941.0537 - val_loss: 2510.1892 - 94ms/epoch - 5ms/step\n",
            "Epoch 6/50\n",
            "18/18 - 0s - loss: 2727.0281 - val_loss: 2377.1875 - 82ms/epoch - 5ms/step\n",
            "Epoch 7/50\n",
            "18/18 - 0s - loss: 2594.7429 - val_loss: 2270.0381 - 79ms/epoch - 4ms/step\n",
            "Epoch 8/50\n",
            "18/18 - 0s - loss: 2463.3936 - val_loss: 2170.4663 - 90ms/epoch - 5ms/step\n",
            "Epoch 9/50\n",
            "18/18 - 0s - loss: 2341.7878 - val_loss: 2070.2693 - 81ms/epoch - 4ms/step\n",
            "Epoch 10/50\n",
            "18/18 - 0s - loss: 2228.4868 - val_loss: 1984.7207 - 83ms/epoch - 5ms/step\n",
            "Epoch 11/50\n",
            "18/18 - 0s - loss: 2121.2034 - val_loss: 1894.8795 - 89ms/epoch - 5ms/step\n",
            "Epoch 12/50\n",
            "18/18 - 0s - loss: 2018.7871 - val_loss: 1808.0422 - 87ms/epoch - 5ms/step\n",
            "Epoch 13/50\n",
            "18/18 - 0s - loss: 1923.1548 - val_loss: 1720.1294 - 90ms/epoch - 5ms/step\n",
            "Epoch 14/50\n",
            "18/18 - 0s - loss: 1838.3036 - val_loss: 1644.6564 - 89ms/epoch - 5ms/step\n",
            "Epoch 15/50\n",
            "18/18 - 0s - loss: 1756.3596 - val_loss: 1580.3510 - 87ms/epoch - 5ms/step\n",
            "Epoch 16/50\n",
            "18/18 - 0s - loss: 1678.7972 - val_loss: 1509.9001 - 89ms/epoch - 5ms/step\n",
            "Epoch 17/50\n",
            "18/18 - 0s - loss: 1606.8687 - val_loss: 1442.2584 - 92ms/epoch - 5ms/step\n",
            "Epoch 18/50\n",
            "18/18 - 0s - loss: 1541.4138 - val_loss: 1389.3821 - 88ms/epoch - 5ms/step\n",
            "Epoch 19/50\n",
            "18/18 - 0s - loss: 1476.3345 - val_loss: 1327.7035 - 90ms/epoch - 5ms/step\n",
            "Epoch 20/50\n",
            "18/18 - 0s - loss: 1417.0991 - val_loss: 1278.9263 - 96ms/epoch - 5ms/step\n",
            "Epoch 21/50\n",
            "18/18 - 0s - loss: 1361.7584 - val_loss: 1226.2817 - 81ms/epoch - 4ms/step\n",
            "Epoch 22/50\n",
            "18/18 - 0s - loss: 1309.1713 - val_loss: 1186.1600 - 99ms/epoch - 6ms/step\n",
            "Epoch 23/50\n",
            "18/18 - 0s - loss: 1260.9172 - val_loss: 1141.7914 - 103ms/epoch - 6ms/step\n",
            "Epoch 24/50\n",
            "18/18 - 0s - loss: 1215.0100 - val_loss: 1097.8932 - 90ms/epoch - 5ms/step\n",
            "Epoch 25/50\n",
            "18/18 - 0s - loss: 1172.0045 - val_loss: 1063.9747 - 119ms/epoch - 7ms/step\n",
            "Epoch 26/50\n",
            "18/18 - 0s - loss: 1131.9479 - val_loss: 1028.4846 - 99ms/epoch - 5ms/step\n",
            "Epoch 27/50\n",
            "18/18 - 0s - loss: 1097.0726 - val_loss: 993.8767 - 84ms/epoch - 5ms/step\n",
            "Epoch 28/50\n",
            "18/18 - 0s - loss: 1060.4784 - val_loss: 967.8308 - 91ms/epoch - 5ms/step\n",
            "Epoch 29/50\n",
            "18/18 - 0s - loss: 1026.7748 - val_loss: 934.8666 - 77ms/epoch - 4ms/step\n",
            "Epoch 30/50\n",
            "18/18 - 0s - loss: 995.9015 - val_loss: 909.0971 - 74ms/epoch - 4ms/step\n",
            "Epoch 31/50\n",
            "18/18 - 0s - loss: 967.2784 - val_loss: 886.7585 - 58ms/epoch - 3ms/step\n",
            "Epoch 32/50\n",
            "18/18 - 0s - loss: 938.9213 - val_loss: 859.3434 - 72ms/epoch - 4ms/step\n",
            "Epoch 33/50\n",
            "18/18 - 0s - loss: 915.5308 - val_loss: 833.7866 - 73ms/epoch - 4ms/step\n",
            "Epoch 34/50\n",
            "18/18 - 0s - loss: 891.8967 - val_loss: 819.1731 - 78ms/epoch - 4ms/step\n",
            "Epoch 35/50\n",
            "18/18 - 0s - loss: 866.0919 - val_loss: 790.6357 - 60ms/epoch - 3ms/step\n",
            "Epoch 36/50\n",
            "18/18 - 0s - loss: 843.4580 - val_loss: 773.1166 - 75ms/epoch - 4ms/step\n",
            "Epoch 37/50\n",
            "18/18 - 0s - loss: 824.2679 - val_loss: 762.1945 - 60ms/epoch - 3ms/step\n",
            "Epoch 38/50\n",
            "18/18 - 0s - loss: 803.4057 - val_loss: 736.9836 - 69ms/epoch - 4ms/step\n",
            "Epoch 39/50\n",
            "18/18 - 0s - loss: 782.9881 - val_loss: 722.6905 - 76ms/epoch - 4ms/step\n",
            "Epoch 40/50\n",
            "18/18 - 0s - loss: 765.1077 - val_loss: 706.8136 - 60ms/epoch - 3ms/step\n",
            "Epoch 41/50\n",
            "18/18 - 0s - loss: 747.8417 - val_loss: 687.2747 - 66ms/epoch - 4ms/step\n",
            "Epoch 42/50\n",
            "18/18 - 0s - loss: 729.3713 - val_loss: 677.7766 - 76ms/epoch - 4ms/step\n",
            "Epoch 43/50\n",
            "18/18 - 0s - loss: 715.0742 - val_loss: 659.3179 - 72ms/epoch - 4ms/step\n",
            "Epoch 44/50\n",
            "18/18 - 0s - loss: 697.0645 - val_loss: 646.6998 - 77ms/epoch - 4ms/step\n",
            "Epoch 45/50\n",
            "18/18 - 0s - loss: 682.2087 - val_loss: 633.0916 - 57ms/epoch - 3ms/step\n",
            "Epoch 46/50\n",
            "18/18 - 0s - loss: 666.5347 - val_loss: 622.3669 - 60ms/epoch - 3ms/step\n",
            "Epoch 47/50\n",
            "18/18 - 0s - loss: 652.1378 - val_loss: 607.8182 - 56ms/epoch - 3ms/step\n",
            "Epoch 48/50\n",
            "18/18 - 0s - loss: 639.6062 - val_loss: 593.4934 - 71ms/epoch - 4ms/step\n",
            "Epoch 49/50\n",
            "18/18 - 0s - loss: 625.0349 - val_loss: 588.7870 - 58ms/epoch - 3ms/step\n",
            "Epoch 50/50\n",
            "18/18 - 0s - loss: 611.3864 - val_loss: 570.3354 - 60ms/epoch - 3ms/step\n"
          ]
        }
      ]
    },
    {
      "cell_type": "markdown",
      "source": [
        "Calculate the Mean Squared Error (MSE) on the test set:\n"
      ],
      "metadata": {
        "id": "gwsRREekuX3S"
      }
    },
    {
      "cell_type": "code",
      "source": [
        "y_pred = model.predict(X_test)\n",
        "mse = mean_squared_error(y_test, y_pred)\n",
        "print(f\"Mean Squared Error: {mse}\")"
      ],
      "metadata": {
        "colab": {
          "base_uri": "https://localhost:8080/"
        },
        "id": "xO64qWS4ua1Y",
        "outputId": "dae9b524-e6ff-49af-a56a-2b1e892f572d"
      },
      "execution_count": 10,
      "outputs": [
        {
          "output_type": "stream",
          "name": "stdout",
          "text": [
            "10/10 [==============================] - 0s 2ms/step\n",
            "Mean Squared Error: 510.97274386624485\n"
          ]
        }
      ]
    }
  ]
}