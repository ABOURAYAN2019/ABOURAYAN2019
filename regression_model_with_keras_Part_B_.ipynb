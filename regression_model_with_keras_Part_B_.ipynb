{
  "nbformat": 4,
  "nbformat_minor": 0,
  "metadata": {
    "colab": {
      "provenance": [],
      "authorship_tag": "ABX9TyPaws0LXWI/hC3ZCRKiEjh5",
      "include_colab_link": true
    },
    "kernelspec": {
      "name": "python3",
      "display_name": "Python 3"
    },
    "language_info": {
      "name": "python"
    }
  },
  "cells": [
    {
      "cell_type": "markdown",
      "metadata": {
        "id": "view-in-github",
        "colab_type": "text"
      },
      "source": [
        "<a href=\"https://colab.research.google.com/github/ABOURAYAN2019/ABOURAYAN2019/blob/main/regression_model_with_keras_Part_B_.ipynb\" target=\"_parent\"><img src=\"https://colab.research.google.com/assets/colab-badge.svg\" alt=\"Open In Colab\"/></a>"
      ]
    },
    {
      "cell_type": "markdown",
      "source": [
        "Import necessary libraries\n"
      ],
      "metadata": {
        "id": "YiJrL9aHsDzo"
      }
    },
    {
      "cell_type": "code",
      "execution_count": 2,
      "metadata": {
        "id": "fDFq9Dpsna9L"
      },
      "outputs": [],
      "source": [
        "import pandas as pd\n",
        "import numpy as np\n",
        "from keras.models import Sequential\n",
        "from keras.layers import Dense\n",
        "from sklearn.model_selection import train_test_split\n",
        "from sklearn.metrics import mean_squared_error"
      ]
    },
    {
      "cell_type": "markdown",
      "source": [
        "Load the dataset"
      ],
      "metadata": {
        "id": "Q9Ygh85PsSyG"
      }
    },
    {
      "cell_type": "code",
      "source": [
        "data_url = \"https://cocl.us/concrete_data\"\n",
        "concrete_data = pd.read_csv(data_url)"
      ],
      "metadata": {
        "id": "qD4jY72er2IU"
      },
      "execution_count": 3,
      "outputs": []
    },
    {
      "cell_type": "markdown",
      "source": [
        "Brief exploration"
      ],
      "metadata": {
        "id": "FrqtPbXxsROG"
      }
    },
    {
      "cell_type": "code",
      "source": [
        "concrete_data.head()\n",
        "concrete_data.describe()"
      ],
      "metadata": {
        "colab": {
          "base_uri": "https://localhost:8080/",
          "height": 300
        },
        "id": "y05KkrbYsbfv",
        "outputId": "2919555e-f39f-4b3f-ba20-45cc2883f4f4"
      },
      "execution_count": 4,
      "outputs": [
        {
          "output_type": "execute_result",
          "data": {
            "text/plain": [
              "            Cement  Blast Furnace Slag      Fly Ash        Water  \\\n",
              "count  1030.000000         1030.000000  1030.000000  1030.000000   \n",
              "mean    281.167864           73.895825    54.188350   181.567282   \n",
              "std     104.506364           86.279342    63.997004    21.354219   \n",
              "min     102.000000            0.000000     0.000000   121.800000   \n",
              "25%     192.375000            0.000000     0.000000   164.900000   \n",
              "50%     272.900000           22.000000     0.000000   185.000000   \n",
              "75%     350.000000          142.950000   118.300000   192.000000   \n",
              "max     540.000000          359.400000   200.100000   247.000000   \n",
              "\n",
              "       Superplasticizer  Coarse Aggregate  Fine Aggregate          Age  \\\n",
              "count       1030.000000       1030.000000     1030.000000  1030.000000   \n",
              "mean           6.204660        972.918932      773.580485    45.662136   \n",
              "std            5.973841         77.753954       80.175980    63.169912   \n",
              "min            0.000000        801.000000      594.000000     1.000000   \n",
              "25%            0.000000        932.000000      730.950000     7.000000   \n",
              "50%            6.400000        968.000000      779.500000    28.000000   \n",
              "75%           10.200000       1029.400000      824.000000    56.000000   \n",
              "max           32.200000       1145.000000      992.600000   365.000000   \n",
              "\n",
              "          Strength  \n",
              "count  1030.000000  \n",
              "mean     35.817961  \n",
              "std      16.705742  \n",
              "min       2.330000  \n",
              "25%      23.710000  \n",
              "50%      34.445000  \n",
              "75%      46.135000  \n",
              "max      82.600000  "
            ],
            "text/html": [
              "\n",
              "  <div id=\"df-69116ffc-afa1-493e-9562-8ce5ae74e4e3\" class=\"colab-df-container\">\n",
              "    <div>\n",
              "<style scoped>\n",
              "    .dataframe tbody tr th:only-of-type {\n",
              "        vertical-align: middle;\n",
              "    }\n",
              "\n",
              "    .dataframe tbody tr th {\n",
              "        vertical-align: top;\n",
              "    }\n",
              "\n",
              "    .dataframe thead th {\n",
              "        text-align: right;\n",
              "    }\n",
              "</style>\n",
              "<table border=\"1\" class=\"dataframe\">\n",
              "  <thead>\n",
              "    <tr style=\"text-align: right;\">\n",
              "      <th></th>\n",
              "      <th>Cement</th>\n",
              "      <th>Blast Furnace Slag</th>\n",
              "      <th>Fly Ash</th>\n",
              "      <th>Water</th>\n",
              "      <th>Superplasticizer</th>\n",
              "      <th>Coarse Aggregate</th>\n",
              "      <th>Fine Aggregate</th>\n",
              "      <th>Age</th>\n",
              "      <th>Strength</th>\n",
              "    </tr>\n",
              "  </thead>\n",
              "  <tbody>\n",
              "    <tr>\n",
              "      <th>count</th>\n",
              "      <td>1030.000000</td>\n",
              "      <td>1030.000000</td>\n",
              "      <td>1030.000000</td>\n",
              "      <td>1030.000000</td>\n",
              "      <td>1030.000000</td>\n",
              "      <td>1030.000000</td>\n",
              "      <td>1030.000000</td>\n",
              "      <td>1030.000000</td>\n",
              "      <td>1030.000000</td>\n",
              "    </tr>\n",
              "    <tr>\n",
              "      <th>mean</th>\n",
              "      <td>281.167864</td>\n",
              "      <td>73.895825</td>\n",
              "      <td>54.188350</td>\n",
              "      <td>181.567282</td>\n",
              "      <td>6.204660</td>\n",
              "      <td>972.918932</td>\n",
              "      <td>773.580485</td>\n",
              "      <td>45.662136</td>\n",
              "      <td>35.817961</td>\n",
              "    </tr>\n",
              "    <tr>\n",
              "      <th>std</th>\n",
              "      <td>104.506364</td>\n",
              "      <td>86.279342</td>\n",
              "      <td>63.997004</td>\n",
              "      <td>21.354219</td>\n",
              "      <td>5.973841</td>\n",
              "      <td>77.753954</td>\n",
              "      <td>80.175980</td>\n",
              "      <td>63.169912</td>\n",
              "      <td>16.705742</td>\n",
              "    </tr>\n",
              "    <tr>\n",
              "      <th>min</th>\n",
              "      <td>102.000000</td>\n",
              "      <td>0.000000</td>\n",
              "      <td>0.000000</td>\n",
              "      <td>121.800000</td>\n",
              "      <td>0.000000</td>\n",
              "      <td>801.000000</td>\n",
              "      <td>594.000000</td>\n",
              "      <td>1.000000</td>\n",
              "      <td>2.330000</td>\n",
              "    </tr>\n",
              "    <tr>\n",
              "      <th>25%</th>\n",
              "      <td>192.375000</td>\n",
              "      <td>0.000000</td>\n",
              "      <td>0.000000</td>\n",
              "      <td>164.900000</td>\n",
              "      <td>0.000000</td>\n",
              "      <td>932.000000</td>\n",
              "      <td>730.950000</td>\n",
              "      <td>7.000000</td>\n",
              "      <td>23.710000</td>\n",
              "    </tr>\n",
              "    <tr>\n",
              "      <th>50%</th>\n",
              "      <td>272.900000</td>\n",
              "      <td>22.000000</td>\n",
              "      <td>0.000000</td>\n",
              "      <td>185.000000</td>\n",
              "      <td>6.400000</td>\n",
              "      <td>968.000000</td>\n",
              "      <td>779.500000</td>\n",
              "      <td>28.000000</td>\n",
              "      <td>34.445000</td>\n",
              "    </tr>\n",
              "    <tr>\n",
              "      <th>75%</th>\n",
              "      <td>350.000000</td>\n",
              "      <td>142.950000</td>\n",
              "      <td>118.300000</td>\n",
              "      <td>192.000000</td>\n",
              "      <td>10.200000</td>\n",
              "      <td>1029.400000</td>\n",
              "      <td>824.000000</td>\n",
              "      <td>56.000000</td>\n",
              "      <td>46.135000</td>\n",
              "    </tr>\n",
              "    <tr>\n",
              "      <th>max</th>\n",
              "      <td>540.000000</td>\n",
              "      <td>359.400000</td>\n",
              "      <td>200.100000</td>\n",
              "      <td>247.000000</td>\n",
              "      <td>32.200000</td>\n",
              "      <td>1145.000000</td>\n",
              "      <td>992.600000</td>\n",
              "      <td>365.000000</td>\n",
              "      <td>82.600000</td>\n",
              "    </tr>\n",
              "  </tbody>\n",
              "</table>\n",
              "</div>\n",
              "    <div class=\"colab-df-buttons\">\n",
              "\n",
              "  <div class=\"colab-df-container\">\n",
              "    <button class=\"colab-df-convert\" onclick=\"convertToInteractive('df-69116ffc-afa1-493e-9562-8ce5ae74e4e3')\"\n",
              "            title=\"Convert this dataframe to an interactive table.\"\n",
              "            style=\"display:none;\">\n",
              "\n",
              "  <svg xmlns=\"http://www.w3.org/2000/svg\" height=\"24px\" viewBox=\"0 -960 960 960\">\n",
              "    <path d=\"M120-120v-720h720v720H120Zm60-500h600v-160H180v160Zm220 220h160v-160H400v160Zm0 220h160v-160H400v160ZM180-400h160v-160H180v160Zm440 0h160v-160H620v160ZM180-180h160v-160H180v160Zm440 0h160v-160H620v160Z\"/>\n",
              "  </svg>\n",
              "    </button>\n",
              "\n",
              "  <style>\n",
              "    .colab-df-container {\n",
              "      display:flex;\n",
              "      gap: 12px;\n",
              "    }\n",
              "\n",
              "    .colab-df-convert {\n",
              "      background-color: #E8F0FE;\n",
              "      border: none;\n",
              "      border-radius: 50%;\n",
              "      cursor: pointer;\n",
              "      display: none;\n",
              "      fill: #1967D2;\n",
              "      height: 32px;\n",
              "      padding: 0 0 0 0;\n",
              "      width: 32px;\n",
              "    }\n",
              "\n",
              "    .colab-df-convert:hover {\n",
              "      background-color: #E2EBFA;\n",
              "      box-shadow: 0px 1px 2px rgba(60, 64, 67, 0.3), 0px 1px 3px 1px rgba(60, 64, 67, 0.15);\n",
              "      fill: #174EA6;\n",
              "    }\n",
              "\n",
              "    .colab-df-buttons div {\n",
              "      margin-bottom: 4px;\n",
              "    }\n",
              "\n",
              "    [theme=dark] .colab-df-convert {\n",
              "      background-color: #3B4455;\n",
              "      fill: #D2E3FC;\n",
              "    }\n",
              "\n",
              "    [theme=dark] .colab-df-convert:hover {\n",
              "      background-color: #434B5C;\n",
              "      box-shadow: 0px 1px 3px 1px rgba(0, 0, 0, 0.15);\n",
              "      filter: drop-shadow(0px 1px 2px rgba(0, 0, 0, 0.3));\n",
              "      fill: #FFFFFF;\n",
              "    }\n",
              "  </style>\n",
              "\n",
              "    <script>\n",
              "      const buttonEl =\n",
              "        document.querySelector('#df-69116ffc-afa1-493e-9562-8ce5ae74e4e3 button.colab-df-convert');\n",
              "      buttonEl.style.display =\n",
              "        google.colab.kernel.accessAllowed ? 'block' : 'none';\n",
              "\n",
              "      async function convertToInteractive(key) {\n",
              "        const element = document.querySelector('#df-69116ffc-afa1-493e-9562-8ce5ae74e4e3');\n",
              "        const dataTable =\n",
              "          await google.colab.kernel.invokeFunction('convertToInteractive',\n",
              "                                                    [key], {});\n",
              "        if (!dataTable) return;\n",
              "\n",
              "        const docLinkHtml = 'Like what you see? Visit the ' +\n",
              "          '<a target=\"_blank\" href=https://colab.research.google.com/notebooks/data_table.ipynb>data table notebook</a>'\n",
              "          + ' to learn more about interactive tables.';\n",
              "        element.innerHTML = '';\n",
              "        dataTable['output_type'] = 'display_data';\n",
              "        await google.colab.output.renderOutput(dataTable, element);\n",
              "        const docLink = document.createElement('div');\n",
              "        docLink.innerHTML = docLinkHtml;\n",
              "        element.appendChild(docLink);\n",
              "      }\n",
              "    </script>\n",
              "  </div>\n",
              "\n",
              "\n",
              "<div id=\"df-fdd91165-1124-4246-9171-64504042bbe7\">\n",
              "  <button class=\"colab-df-quickchart\" onclick=\"quickchart('df-fdd91165-1124-4246-9171-64504042bbe7')\"\n",
              "            title=\"Suggest charts\"\n",
              "            style=\"display:none;\">\n",
              "\n",
              "<svg xmlns=\"http://www.w3.org/2000/svg\" height=\"24px\"viewBox=\"0 0 24 24\"\n",
              "     width=\"24px\">\n",
              "    <g>\n",
              "        <path d=\"M19 3H5c-1.1 0-2 .9-2 2v14c0 1.1.9 2 2 2h14c1.1 0 2-.9 2-2V5c0-1.1-.9-2-2-2zM9 17H7v-7h2v7zm4 0h-2V7h2v10zm4 0h-2v-4h2v4z\"/>\n",
              "    </g>\n",
              "</svg>\n",
              "  </button>\n",
              "\n",
              "<style>\n",
              "  .colab-df-quickchart {\n",
              "      --bg-color: #E8F0FE;\n",
              "      --fill-color: #1967D2;\n",
              "      --hover-bg-color: #E2EBFA;\n",
              "      --hover-fill-color: #174EA6;\n",
              "      --disabled-fill-color: #AAA;\n",
              "      --disabled-bg-color: #DDD;\n",
              "  }\n",
              "\n",
              "  [theme=dark] .colab-df-quickchart {\n",
              "      --bg-color: #3B4455;\n",
              "      --fill-color: #D2E3FC;\n",
              "      --hover-bg-color: #434B5C;\n",
              "      --hover-fill-color: #FFFFFF;\n",
              "      --disabled-bg-color: #3B4455;\n",
              "      --disabled-fill-color: #666;\n",
              "  }\n",
              "\n",
              "  .colab-df-quickchart {\n",
              "    background-color: var(--bg-color);\n",
              "    border: none;\n",
              "    border-radius: 50%;\n",
              "    cursor: pointer;\n",
              "    display: none;\n",
              "    fill: var(--fill-color);\n",
              "    height: 32px;\n",
              "    padding: 0;\n",
              "    width: 32px;\n",
              "  }\n",
              "\n",
              "  .colab-df-quickchart:hover {\n",
              "    background-color: var(--hover-bg-color);\n",
              "    box-shadow: 0 1px 2px rgba(60, 64, 67, 0.3), 0 1px 3px 1px rgba(60, 64, 67, 0.15);\n",
              "    fill: var(--button-hover-fill-color);\n",
              "  }\n",
              "\n",
              "  .colab-df-quickchart-complete:disabled,\n",
              "  .colab-df-quickchart-complete:disabled:hover {\n",
              "    background-color: var(--disabled-bg-color);\n",
              "    fill: var(--disabled-fill-color);\n",
              "    box-shadow: none;\n",
              "  }\n",
              "\n",
              "  .colab-df-spinner {\n",
              "    border: 2px solid var(--fill-color);\n",
              "    border-color: transparent;\n",
              "    border-bottom-color: var(--fill-color);\n",
              "    animation:\n",
              "      spin 1s steps(1) infinite;\n",
              "  }\n",
              "\n",
              "  @keyframes spin {\n",
              "    0% {\n",
              "      border-color: transparent;\n",
              "      border-bottom-color: var(--fill-color);\n",
              "      border-left-color: var(--fill-color);\n",
              "    }\n",
              "    20% {\n",
              "      border-color: transparent;\n",
              "      border-left-color: var(--fill-color);\n",
              "      border-top-color: var(--fill-color);\n",
              "    }\n",
              "    30% {\n",
              "      border-color: transparent;\n",
              "      border-left-color: var(--fill-color);\n",
              "      border-top-color: var(--fill-color);\n",
              "      border-right-color: var(--fill-color);\n",
              "    }\n",
              "    40% {\n",
              "      border-color: transparent;\n",
              "      border-right-color: var(--fill-color);\n",
              "      border-top-color: var(--fill-color);\n",
              "    }\n",
              "    60% {\n",
              "      border-color: transparent;\n",
              "      border-right-color: var(--fill-color);\n",
              "    }\n",
              "    80% {\n",
              "      border-color: transparent;\n",
              "      border-right-color: var(--fill-color);\n",
              "      border-bottom-color: var(--fill-color);\n",
              "    }\n",
              "    90% {\n",
              "      border-color: transparent;\n",
              "      border-bottom-color: var(--fill-color);\n",
              "    }\n",
              "  }\n",
              "</style>\n",
              "\n",
              "  <script>\n",
              "    async function quickchart(key) {\n",
              "      const quickchartButtonEl =\n",
              "        document.querySelector('#' + key + ' button');\n",
              "      quickchartButtonEl.disabled = true;  // To prevent multiple clicks.\n",
              "      quickchartButtonEl.classList.add('colab-df-spinner');\n",
              "      try {\n",
              "        const charts = await google.colab.kernel.invokeFunction(\n",
              "            'suggestCharts', [key], {});\n",
              "      } catch (error) {\n",
              "        console.error('Error during call to suggestCharts:', error);\n",
              "      }\n",
              "      quickchartButtonEl.classList.remove('colab-df-spinner');\n",
              "      quickchartButtonEl.classList.add('colab-df-quickchart-complete');\n",
              "    }\n",
              "    (() => {\n",
              "      let quickchartButtonEl =\n",
              "        document.querySelector('#df-fdd91165-1124-4246-9171-64504042bbe7 button');\n",
              "      quickchartButtonEl.style.display =\n",
              "        google.colab.kernel.accessAllowed ? 'block' : 'none';\n",
              "    })();\n",
              "  </script>\n",
              "</div>\n",
              "\n",
              "    </div>\n",
              "  </div>\n"
            ],
            "application/vnd.google.colaboratory.intrinsic+json": {
              "type": "dataframe",
              "summary": "{\n  \"name\": \"concrete_data\",\n  \"rows\": 8,\n  \"fields\": [\n    {\n      \"column\": \"Cement\",\n      \"properties\": {\n        \"dtype\": \"number\",\n        \"std\": 305.925723919693,\n        \"min\": 102.0,\n        \"max\": 1030.0,\n        \"num_unique_values\": 8,\n        \"samples\": [\n          281.16786407766995,\n          272.9,\n          1030.0\n        ],\n        \"semantic_type\": \"\",\n        \"description\": \"\"\n      }\n    },\n    {\n      \"column\": \"Blast Furnace Slag\",\n      \"properties\": {\n        \"dtype\": \"number\",\n        \"std\": 349.7840582355622,\n        \"min\": 0.0,\n        \"max\": 1030.0,\n        \"num_unique_values\": 7,\n        \"samples\": [\n          1030.0,\n          73.89582524271846,\n          142.95\n        ],\n        \"semantic_type\": \"\",\n        \"description\": \"\"\n      }\n    },\n    {\n      \"column\": \"Fly Ash\",\n      \"properties\": {\n        \"dtype\": \"number\",\n        \"std\": 349.10248573300066,\n        \"min\": 0.0,\n        \"max\": 1030.0,\n        \"num_unique_values\": 6,\n        \"samples\": [\n          1030.0,\n          54.18834951456311,\n          200.1\n        ],\n        \"semantic_type\": \"\",\n        \"description\": \"\"\n      }\n    },\n    {\n      \"column\": \"Water\",\n      \"properties\": {\n        \"dtype\": \"number\",\n        \"std\": 314.8829234606696,\n        \"min\": 21.35421856503247,\n        \"max\": 1030.0,\n        \"num_unique_values\": 8,\n        \"samples\": [\n          181.56728155339806,\n          185.0,\n          1030.0\n        ],\n        \"semantic_type\": \"\",\n        \"description\": \"\"\n      }\n    },\n    {\n      \"column\": \"Superplasticizer\",\n      \"properties\": {\n        \"dtype\": \"number\",\n        \"std\": 361.22346926276094,\n        \"min\": 0.0,\n        \"max\": 1030.0,\n        \"num_unique_values\": 7,\n        \"samples\": [\n          1030.0,\n          6.204660194174758,\n          10.2\n        ],\n        \"semantic_type\": \"\",\n        \"description\": \"\"\n      }\n    },\n    {\n      \"column\": \"Coarse Aggregate\",\n      \"properties\": {\n        \"dtype\": \"number\",\n        \"std\": 334.4689898607596,\n        \"min\": 77.75395396672077,\n        \"max\": 1145.0,\n        \"num_unique_values\": 8,\n        \"samples\": [\n          972.9189320388349,\n          968.0,\n          1030.0\n        ],\n        \"semantic_type\": \"\",\n        \"description\": \"\"\n      }\n    },\n    {\n      \"column\": \"Fine Aggregate\",\n      \"properties\": {\n        \"dtype\": \"number\",\n        \"std\": 295.86618714901516,\n        \"min\": 80.17598014240437,\n        \"max\": 1030.0,\n        \"num_unique_values\": 8,\n        \"samples\": [\n          773.5804854368932,\n          779.5,\n          1030.0\n        ],\n        \"semantic_type\": \"\",\n        \"description\": \"\"\n      }\n    },\n    {\n      \"column\": \"Age\",\n      \"properties\": {\n        \"dtype\": \"number\",\n        \"std\": 355.7357522307611,\n        \"min\": 1.0,\n        \"max\": 1030.0,\n        \"num_unique_values\": 8,\n        \"samples\": [\n          45.662135922330094,\n          28.0,\n          1030.0\n        ],\n        \"semantic_type\": \"\",\n        \"description\": \"\"\n      }\n    },\n    {\n      \"column\": \"Strength\",\n      \"properties\": {\n        \"dtype\": \"number\",\n        \"std\": 352.74449506712654,\n        \"min\": 2.33,\n        \"max\": 1030.0,\n        \"num_unique_values\": 8,\n        \"samples\": [\n          35.817961165048544,\n          34.445,\n          1030.0\n        ],\n        \"semantic_type\": \"\",\n        \"description\": \"\"\n      }\n    }\n  ]\n}"
            }
          },
          "metadata": {},
          "execution_count": 4
        }
      ]
    },
    {
      "cell_type": "markdown",
      "source": [
        "Split the data into predictors and target"
      ],
      "metadata": {
        "id": "QA_qIZrytSOA"
      }
    },
    {
      "cell_type": "code",
      "source": [
        "X = concrete_data.drop(['Strength'], axis=1)\n",
        "y = concrete_data['Strength']"
      ],
      "metadata": {
        "id": "f9ELfJHPtYBp"
      },
      "execution_count": 5,
      "outputs": []
    },
    {
      "cell_type": "markdown",
      "source": [
        "Split the data into a training set and a test set //To normalize the data for Part B and see how it impacts the mean squared error (MSE) compared to Part A, We ![part A.JPG](data:image/jpeg;base64,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)follow these steps\n"
      ],
      "metadata": {
        "id": "FTdIagmutgFX"
      }
    },
    {
      "cell_type": "code",
      "source": [
        "from sklearn.preprocessing import StandardScaler\n",
        "\n",
        "# Predictor variables\n",
        "X = concrete_data.drop(['Strength'], axis=1)\n",
        "y = concrete_data['Strength']\n",
        "\n",
        "# Normalize the predictors\n",
        "scaler = StandardScaler()\n",
        "X_scaled = scaler.fit_transform(X)\n",
        "\n",
        "# Split the normalized data into training and testing sets\n",
        "X_train, X_test, y_train, y_test = train_test_split(X_scaled, y, test_size=0.3, random_state=42)"
      ],
      "metadata": {
        "id": "tV3LlLQEtnLn"
      },
      "execution_count": 6,
      "outputs": []
    },
    {
      "cell_type": "markdown",
      "source": [
        "build a baseline model with one hidden layer //We can use the same model architecture from Part A.\n",
        "\n"
      ],
      "metadata": {
        "id": "SM4g55zDtsWI"
      }
    },
    {
      "cell_type": "code",
      "source": [
        "def build_model():\n",
        "    model = Sequential()\n",
        "    model.add(Dense(10, activation='relu', input_shape=(X_train.shape[1],)))\n",
        "    model.add(Dense(1))\n",
        "    model.compile(optimizer='adam', loss='mean_squared_error')\n",
        "    return model\n",
        "model = build_model()"
      ],
      "metadata": {
        "id": "Xx78D_xjtyZk"
      },
      "execution_count": 7,
      "outputs": []
    },
    {
      "cell_type": "markdown",
      "source": [
        "Train the model for 50 epochs"
      ],
      "metadata": {
        "id": "nvXM7Oz4t8xM"
      }
    },
    {
      "cell_type": "code",
      "source": [
        "history = model.fit(X_train, y_train, epochs=50, validation_split=0.2, verbose=2)\n"
      ],
      "metadata": {
        "colab": {
          "base_uri": "https://localhost:8080/"
        },
        "id": "-tckOLjWuDMd",
        "outputId": "88b3eaa9-d82b-4c71-e880-5b9d2024d80e"
      },
      "execution_count": 8,
      "outputs": [
        {
          "output_type": "stream",
          "name": "stdout",
          "text": [
            "Epoch 1/50\n",
            "18/18 - 1s - loss: 1560.6868 - val_loss: 1579.2317 - 929ms/epoch - 52ms/step\n",
            "Epoch 2/50\n",
            "18/18 - 0s - loss: 1548.3545 - val_loss: 1566.8138 - 89ms/epoch - 5ms/step\n",
            "Epoch 3/50\n",
            "18/18 - 0s - loss: 1535.5917 - val_loss: 1554.2184 - 94ms/epoch - 5ms/step\n",
            "Epoch 4/50\n",
            "18/18 - 0s - loss: 1522.6177 - val_loss: 1541.2986 - 89ms/epoch - 5ms/step\n",
            "Epoch 5/50\n",
            "18/18 - 0s - loss: 1509.5439 - val_loss: 1527.7249 - 77ms/epoch - 4ms/step\n",
            "Epoch 6/50\n",
            "18/18 - 0s - loss: 1495.6694 - val_loss: 1513.9628 - 87ms/epoch - 5ms/step\n",
            "Epoch 7/50\n",
            "18/18 - 0s - loss: 1481.3416 - val_loss: 1499.6851 - 88ms/epoch - 5ms/step\n",
            "Epoch 8/50\n",
            "18/18 - 0s - loss: 1466.4791 - val_loss: 1484.6965 - 98ms/epoch - 5ms/step\n",
            "Epoch 9/50\n",
            "18/18 - 0s - loss: 1450.9982 - val_loss: 1468.9039 - 87ms/epoch - 5ms/step\n",
            "Epoch 10/50\n",
            "18/18 - 0s - loss: 1434.7417 - val_loss: 1452.3531 - 79ms/epoch - 4ms/step\n",
            "Epoch 11/50\n",
            "18/18 - 0s - loss: 1417.5720 - val_loss: 1435.3800 - 86ms/epoch - 5ms/step\n",
            "Epoch 12/50\n",
            "18/18 - 0s - loss: 1399.9512 - val_loss: 1417.4307 - 91ms/epoch - 5ms/step\n",
            "Epoch 13/50\n",
            "18/18 - 0s - loss: 1381.4125 - val_loss: 1398.6282 - 82ms/epoch - 5ms/step\n",
            "Epoch 14/50\n",
            "18/18 - 0s - loss: 1361.5603 - val_loss: 1379.4852 - 98ms/epoch - 5ms/step\n",
            "Epoch 15/50\n",
            "18/18 - 0s - loss: 1341.4443 - val_loss: 1358.7894 - 98ms/epoch - 5ms/step\n",
            "Epoch 16/50\n",
            "18/18 - 0s - loss: 1319.3854 - val_loss: 1337.6995 - 90ms/epoch - 5ms/step\n",
            "Epoch 17/50\n",
            "18/18 - 0s - loss: 1296.8804 - val_loss: 1315.0638 - 101ms/epoch - 6ms/step\n",
            "Epoch 18/50\n",
            "18/18 - 0s - loss: 1272.6646 - val_loss: 1291.5183 - 354ms/epoch - 20ms/step\n",
            "Epoch 19/50\n",
            "18/18 - 0s - loss: 1247.6304 - val_loss: 1266.7479 - 276ms/epoch - 15ms/step\n",
            "Epoch 20/50\n",
            "18/18 - 0s - loss: 1220.9255 - val_loss: 1241.1431 - 90ms/epoch - 5ms/step\n",
            "Epoch 21/50\n",
            "18/18 - 0s - loss: 1193.5679 - val_loss: 1214.1769 - 69ms/epoch - 4ms/step\n",
            "Epoch 22/50\n",
            "18/18 - 0s - loss: 1164.5339 - val_loss: 1186.9360 - 55ms/epoch - 3ms/step\n",
            "Epoch 23/50\n",
            "18/18 - 0s - loss: 1135.2622 - val_loss: 1158.0580 - 68ms/epoch - 4ms/step\n",
            "Epoch 24/50\n",
            "18/18 - 0s - loss: 1104.7091 - val_loss: 1128.7351 - 68ms/epoch - 4ms/step\n",
            "Epoch 25/50\n",
            "18/18 - 0s - loss: 1073.7201 - val_loss: 1098.7336 - 70ms/epoch - 4ms/step\n",
            "Epoch 26/50\n",
            "18/18 - 0s - loss: 1042.0714 - val_loss: 1068.4806 - 138ms/epoch - 8ms/step\n",
            "Epoch 27/50\n",
            "18/18 - 0s - loss: 1010.2913 - val_loss: 1037.8403 - 162ms/epoch - 9ms/step\n",
            "Epoch 28/50\n",
            "18/18 - 0s - loss: 977.6939 - val_loss: 1007.6758 - 124ms/epoch - 7ms/step\n",
            "Epoch 29/50\n",
            "18/18 - 0s - loss: 946.6089 - val_loss: 976.2159 - 95ms/epoch - 5ms/step\n",
            "Epoch 30/50\n",
            "18/18 - 0s - loss: 914.2751 - val_loss: 945.2071 - 58ms/epoch - 3ms/step\n",
            "Epoch 31/50\n",
            "18/18 - 0s - loss: 882.2365 - val_loss: 914.9775 - 58ms/epoch - 3ms/step\n",
            "Epoch 32/50\n",
            "18/18 - 0s - loss: 851.1415 - val_loss: 884.3785 - 58ms/epoch - 3ms/step\n",
            "Epoch 33/50\n",
            "18/18 - 0s - loss: 819.8115 - val_loss: 854.4585 - 70ms/epoch - 4ms/step\n",
            "Epoch 34/50\n",
            "18/18 - 0s - loss: 789.6728 - val_loss: 824.4168 - 70ms/epoch - 4ms/step\n",
            "Epoch 35/50\n",
            "18/18 - 0s - loss: 759.5823 - val_loss: 795.4005 - 59ms/epoch - 3ms/step\n",
            "Epoch 36/50\n",
            "18/18 - 0s - loss: 730.5364 - val_loss: 766.6965 - 71ms/epoch - 4ms/step\n",
            "Epoch 37/50\n",
            "18/18 - 0s - loss: 702.7770 - val_loss: 737.8366 - 55ms/epoch - 3ms/step\n",
            "Epoch 38/50\n",
            "18/18 - 0s - loss: 674.4915 - val_loss: 711.0832 - 272ms/epoch - 15ms/step\n",
            "Epoch 39/50\n",
            "18/18 - 0s - loss: 647.8923 - val_loss: 684.7963 - 104ms/epoch - 6ms/step\n",
            "Epoch 40/50\n",
            "18/18 - 0s - loss: 622.6105 - val_loss: 658.6821 - 85ms/epoch - 5ms/step\n",
            "Epoch 41/50\n",
            "18/18 - 0s - loss: 597.7951 - val_loss: 633.6165 - 71ms/epoch - 4ms/step\n",
            "Epoch 42/50\n",
            "18/18 - 0s - loss: 573.9524 - val_loss: 609.5999 - 56ms/epoch - 3ms/step\n",
            "Epoch 43/50\n",
            "18/18 - 0s - loss: 551.1101 - val_loss: 586.5976 - 55ms/epoch - 3ms/step\n",
            "Epoch 44/50\n",
            "18/18 - 0s - loss: 529.5463 - val_loss: 564.0701 - 54ms/epoch - 3ms/step\n",
            "Epoch 45/50\n",
            "18/18 - 0s - loss: 508.7850 - val_loss: 542.4831 - 72ms/epoch - 4ms/step\n",
            "Epoch 46/50\n",
            "18/18 - 0s - loss: 488.8173 - val_loss: 522.1447 - 55ms/epoch - 3ms/step\n",
            "Epoch 47/50\n",
            "18/18 - 0s - loss: 470.2130 - val_loss: 502.3625 - 57ms/epoch - 3ms/step\n",
            "Epoch 48/50\n",
            "18/18 - 0s - loss: 452.4834 - val_loss: 483.2246 - 56ms/epoch - 3ms/step\n",
            "Epoch 49/50\n",
            "18/18 - 0s - loss: 435.5568 - val_loss: 465.0782 - 72ms/epoch - 4ms/step\n",
            "Epoch 50/50\n",
            "18/18 - 0s - loss: 419.3633 - val_loss: 448.1907 - 81ms/epoch - 4ms/step\n"
          ]
        }
      ]
    },
    {
      "cell_type": "markdown",
      "source": [
        "Calculate the Mean Squared Error (MSE) on the test set:\n"
      ],
      "metadata": {
        "id": "gwsRREekuX3S"
      }
    },
    {
      "cell_type": "code",
      "source": [
        "y_pred = model.predict(X_test)\n",
        "mse_normalized = mean_squared_error(y_test, y_pred)\n",
        "print(f\"Mean Squared Error with Normalized Data: {mse_normalized}\")"
      ],
      "metadata": {
        "colab": {
          "base_uri": "https://localhost:8080/"
        },
        "id": "xO64qWS4ua1Y",
        "outputId": "d5aaabf4-ffae-43bd-bec0-4d5de045a9b9"
      },
      "execution_count": 10,
      "outputs": [
        {
          "output_type": "stream",
          "name": "stdout",
          "text": [
            "10/10 [==============================] - 0s 2ms/step\n",
            "Mean Squared Error with Normalized Data: 432.04163322060236\n"
          ]
        }
      ]
    },
    {
      "cell_type": "markdown",
      "source": [
        "Observing the transition from an MSE of 510 to 432 illustrates the tangible impact of normalization. Notably, the efficiency of normalization is further highlighted by the early achievement of an MSE of 430 at just 18 epochs in Part B, compared to the MSE of 920 at the same epoch count in Part A. This comparison starkly demonstrates how normalization not only improves model accuracy but also accelerates the learning efficiency, achieving lower error rates much faster.\n",
        "\n",
        "\n",
        "\n"
      ],
      "metadata": {
        "id": "R0spchvNw-IA"
      }
    }
  ]
}